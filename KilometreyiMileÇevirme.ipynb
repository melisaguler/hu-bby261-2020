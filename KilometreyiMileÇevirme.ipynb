{
  "nbformat": 4,
  "nbformat_minor": 0,
  "metadata": {
    "colab": {
      "name": "KilometreyiMileÇevirme.ipynb adlı not defterinin kopyası",
      "provenance": [],
      "authorship_tag": "ABX9TyPxBj/9/+p8wF4SmAx2kte6",
      "include_colab_link": true
    },
    "kernelspec": {
      "name": "python3",
      "display_name": "Python 3"
    }
  },
  "cells": [
    {
      "cell_type": "markdown",
      "metadata": {
        "id": "view-in-github",
        "colab_type": "text"
      },
      "source": [
        "<a href=\"https://colab.research.google.com/github/melisaguler/hu-bby261-2020/blob/main/KilometreyiMile%C3%87evirme.ipynb\" target=\"_parent\"><img src=\"https://colab.research.google.com/assets/colab-badge.svg\" alt=\"Open In Colab\"/></a>"
      ]
    },
    {
      "cell_type": "code",
      "metadata": {
        "id": "0YcFV8CG90AK"
      },
      "source": [
        "# Kilometreyi mile çevirme \n",
        "km = int(input(\"Değeri kilometre cinsinden girin: \"))\n",
        "\n",
        "# 1 Kilometre = 0.621371 Mil\n",
        "oran = 0.621371\n",
        "\n",
        "# km yi mile çevir \n",
        "mil = km * oran\n",
        "\n",
        "print(\"Değeri mil cinsinden girin: \", mil)"
      ],
      "execution_count": null,
      "outputs": []
    }
  ]
}