{
  "nbformat": 4,
  "nbformat_minor": 0,
  "metadata": {
    "colab": {
      "name": "proje_03.ipynb",
      "provenance": [],
      "authorship_tag": "ABX9TyMGdetht6JdDhpDOAp9WTH2",
      "include_colab_link": true
    },
    "kernelspec": {
      "name": "python3",
      "display_name": "Python 3"
    }
  },
  "cells": [
    {
      "cell_type": "markdown",
      "metadata": {
        "id": "view-in-github",
        "colab_type": "text"
      },
      "source": [
        "<a href=\"https://colab.research.google.com/github/melisaguler/hu-bby261-2020/blob/main/proje_03.ipynb\" target=\"_parent\"><img src=\"https://colab.research.google.com/assets/colab-badge.svg\" alt=\"Open In Colab\"/></a>"
      ]
    },
    {
      "cell_type": "code",
      "metadata": {
        "id": "15ptGIiqpLrO"
      },
      "source": [
        "%matplotlib inline\n"
      ],
      "execution_count": 23,
      "outputs": []
    },
    {
      "cell_type": "code",
      "metadata": {
        "id": "2Tk08oX5pNqs"
      },
      "source": [
        "from keras.models import Sequential\n",
        "from keras.layers import Dense, Conv2D, Flatten\n",
        "import matplotlib.pyplot as plt\n",
        "from keras.datasets import mnist\n",
        "from keras.utils import to_categorical"
      ],
      "execution_count": 24,
      "outputs": []
    },
    {
      "cell_type": "code",
      "metadata": {
        "id": "p_z_8lXVpTY4"
      },
      "source": [
        "#download mnist data and split into train and test sets\n",
        "(X_train, y_train), (X_test, y_test) = mnist.load_data()"
      ],
      "execution_count": 25,
      "outputs": []
    },
    {
      "cell_type": "code",
      "metadata": {
        "colab": {
          "base_uri": "https://localhost:8080/",
          "height": 282
        },
        "id": "svaMV3TypYQ-",
        "outputId": "43697193-c632-46b4-ea98-ccefa40a8503"
      },
      "source": [
        "#plot the first image in the dataset\n",
        "plt.imshow(X_train[0])"
      ],
      "execution_count": 26,
      "outputs": [
        {
          "output_type": "execute_result",
          "data": {
            "text/plain": [
              "<matplotlib.image.AxesImage at 0x7fa04a401668>"
            ]
          },
          "metadata": {
            "tags": []
          },
          "execution_count": 26
        },
        {
          "output_type": "display_data",
          "data": {
            "image/png": "[encoded data removed]",
            "text/plain": [
              "<Figure size 432x288 with 1 Axes>"
            ]
          },
          "metadata": {
            "tags": [],
            "needs_background": "light"
          }
        }
      ]
    },
    {
      "cell_type": "code",
      "metadata": {
        "colab": {
          "base_uri": "https://localhost:8080/"
        },
        "id": "wtRguyuhpksQ",
        "outputId": "426b2c20-bee1-4996-f4c0-5a69882d54dc"
      },
      "source": [
        "#check image shape\n",
        "X_train[0].shape"
      ],
      "execution_count": 27,
      "outputs": [
        {
          "output_type": "execute_result",
          "data": {
            "text/plain": [
              "(28, 28)"
            ]
          },
          "metadata": {
            "tags": []
          },
          "execution_count": 27
        }
      ]
    },
    {
      "cell_type": "code",
      "metadata": {
        "id": "_hISs9ENplrN"
      },
      "source": [
        "#reshape data to fit model\n",
        "X_train = X_train.reshape(60000,28,28,1)\n",
        "X_test = X_test.reshape(10000,28,28,1)"
      ],
      "execution_count": 28,
      "outputs": []
    },
    {
      "cell_type": "code",
      "metadata": {
        "colab": {
          "base_uri": "https://localhost:8080/"
        },
        "id": "KRXfKlsPpn2M",
        "outputId": "4c9bd3ae-acee-4d6f-92bf-c62e8a1381f1"
      },
      "source": [
        "#one-hot encode target column\n",
        "y_train = to_categorical(y_train)\n",
        "y_test = to_categorical(y_test)\n",
        "\n",
        "y_train[0]"
      ],
      "execution_count": 29,
      "outputs": [
        {
          "output_type": "execute_result",
          "data": {
            "text/plain": [
              "array([0., 0., 0., 0., 0., 1., 0., 0., 0., 0.], dtype=float32)"
            ]
          },
          "metadata": {
            "tags": []
          },
          "execution_count": 29
        }
      ]
    },
    {
      "cell_type": "code",
      "metadata": {
        "id": "TsquFeQ0prUi"
      },
      "source": [
        "#create model\n",
        "model = Sequential()\n",
        "\n",
        "#add model layers\n",
        "model.add(Conv2D(64, kernel_size=3, activation='relu', input_shape=(28,28,1)))\n",
        "model.add(Conv2D(32, kernel_size=3, activation='relu'))\n",
        "model.add(Flatten())\n",
        "model.add(Dense(10, activation='softmax'))"
      ],
      "execution_count": 30,
      "outputs": []
    },
    {
      "cell_type": "code",
      "metadata": {
        "id": "uS41wSt5ptMy"
      },
      "source": [
        "#compile model using accuracy as a measure of model performance\n",
        "model.compile(optimizer='adam', loss='categorical_crossentropy', metrics=['accuracy'])\n"
      ],
      "execution_count": 31,
      "outputs": []
    },
    {
      "cell_type": "code",
      "metadata": {
        "colab": {
          "base_uri": "https://localhost:8080/"
        },
        "id": "YwIlWRMRpyeO",
        "outputId": "7967ef80-77b8-4494-94ca-88aaab8a1c20"
      },
      "source": [
        "#train model\n",
        "model.fit(X_train, y_train,validation_data=(X_test, y_test), epochs=3)"
      ],
      "execution_count": 22,
      "outputs": [
        {
          "output_type": "stream",
          "text": [
            "Epoch 1/3\n",
            "1875/1875 [==============================] - 170s 91ms/step - loss: 0.2154 - accuracy: 0.9522 - val_loss: 0.1111 - val_accuracy: 0.9653\n",
            "Epoch 2/3\n",
            "1875/1875 [==============================] - 170s 91ms/step - loss: 0.0682 - accuracy: 0.9788 - val_loss: 0.0864 - val_accuracy: 0.9750\n",
            "Epoch 3/3\n",
            "1875/1875 [==============================] - 176s 94ms/step - loss: 0.0502 - accuracy: 0.9846 - val_loss: 0.0902 - val_accuracy: 0.9752\n"
          ],
          "name": "stdout"
        },
        {
          "output_type": "execute_result",
          "data": {
            "text/plain": [
              "<tensorflow.python.keras.callbacks.History at 0x7fa04d34e6a0>"
            ]
          },
          "metadata": {
            "tags": []
          },
          "execution_count": 22
        }
      ]
    },
    {
      "cell_type": "code",
      "metadata": {
        "colab": {
          "base_uri": "https://localhost:8080/"
        },
        "id": "ttpLn5qVp1Iv",
        "outputId": "ff94d317-6bae-448d-d215-0bdde75fd43a"
      },
      "source": [
        "#show predictions for the first 3 images in the test set\n",
        "model.predict(X_test[:4])"
      ],
      "execution_count": 32,
      "outputs": [
        {
          "output_type": "execute_result",
          "data": {
            "text/plain": [
              "array([[6.4433214e-28, 1.5915070e-16, 4.3938624e-13, 9.4250820e-18,\n",
              "        4.1840424e-20, 3.4980388e-24, 9.9997914e-01, 1.9956514e-21,\n",
              "        2.0874284e-05, 2.0838171e-23],\n",
              "       [3.1741437e-18, 9.5393512e-18, 7.1038891e-15, 8.7700630e-10,\n",
              "        9.9842811e-01, 2.9893519e-16, 1.3524486e-11, 1.5718904e-03,\n",
              "        1.4239477e-17, 3.7155967e-10],\n",
              "       [1.7554697e-13, 1.5606192e-11, 5.3279397e-08, 3.6175368e-07,\n",
              "        9.9561584e-01, 6.6052146e-09, 4.2609279e-03, 1.8445663e-08,\n",
              "        1.2276381e-04, 4.4500219e-08],\n",
              "       [0.0000000e+00, 3.9176292e-19, 3.6295641e-19, 3.1595532e-24,\n",
              "        6.4103260e-20, 1.8431959e-14, 7.8285877e-03, 2.2930055e-07,\n",
              "        9.9217117e-01, 1.8793955e-14]], dtype=float32)"
            ]
          },
          "metadata": {
            "tags": []
          },
          "execution_count": 32
        }
      ]
    },
    {
      "cell_type": "code",
      "metadata": {
        "colab": {
          "base_uri": "https://localhost:8080/"
        },
        "id": "2H3q2OfVp3H2",
        "outputId": "9d3ddd94-826d-42ce-9990-7378c96b4675"
      },
      "source": [
        "#show actual results for the first 3 images in the test set\n",
        "y_test[:4]"
      ],
      "execution_count": 33,
      "outputs": [
        {
          "output_type": "execute_result",
          "data": {
            "text/plain": [
              "array([[0., 0., 0., 0., 0., 0., 0., 1., 0., 0.],\n",
              "       [0., 0., 1., 0., 0., 0., 0., 0., 0., 0.],\n",
              "       [0., 1., 0., 0., 0., 0., 0., 0., 0., 0.],\n",
              "       [1., 0., 0., 0., 0., 0., 0., 0., 0., 0.]], dtype=float32)"
            ]
          },
          "metadata": {
            "tags": []
          },
          "execution_count": 33
        }
      ]
    }
  ]
}