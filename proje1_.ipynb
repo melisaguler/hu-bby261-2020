{
  "nbformat": 4,
  "nbformat_minor": 0,
  "metadata": {
    "colab": {
      "name": "proje1_.ipynb",
      "provenance": [],
      "authorship_tag": "ABX9TyPol/S2GeBkynBtzHTyC3HE",
      "include_colab_link": true
    },
    "kernelspec": {
      "name": "python3",
      "display_name": "Python 3"
    }
  },
  "cells": [
    {
      "cell_type": "markdown",
      "metadata": {
        "id": "view-in-github",
        "colab_type": "text"
      },
      "source": [
        "<a href=\"https://colab.research.google.com/github/melisaguler/hu-bby261-2020/blob/main/proje1_.ipynb\" target=\"_parent\"><img src=\"https://colab.research.google.com/assets/colab-badge.svg\" alt=\"Open In Colab\"/></a>"
      ]
    },
    {
      "cell_type": "code",
      "metadata": {
        "id": "MMYKhYahkklf",
        "outputId": "a4e31249-0cc8-48a0-8b11-9d0afc081517",
        "colab": {
          "base_uri": "https://localhost:8080/",
          "height": 68
        }
      },
      "source": [
        "import string\n",
        "cümle = \"7 bin yıl içinde bir görülen kuyruklu yıldız, dünyaya en yakın konumunda görüldü.\"\n",
        "aranan = input(\"cümlede aramak istediğiniz kelimeyi giriniz: \")\n",
        "cümlesonu=\"\"\n",
        "for kelime in cümle:\n",
        "\tif kelime not in string.punctuation:\n",
        "\t\tcümlesonu += kelime\n",
        "arananvarise=cümlesonu.find(\" \"+aranan+\" \")\n",
        "say=cümlesonu.count(\" \"+aranan+\" \")\n",
        "if arananvarise != -1:\n",
        "\tprint(\"Aradığınız kelime cümle içerisinde var. kullanım sayısı\")\n",
        "\tprint(say)\n",
        "else:\n",
        "\tprint(\"Aradığınız kelime cümle içerisinde yok.\")"
      ],
      "execution_count": 3,
      "outputs": [
        {
          "output_type": "stream",
          "text": [
            "cümlede aramak istediğiniz kelimeyi giriniz: yıl\n",
            "Aradığınız kelime cümle içerisinde var. kullanım sayısı\n",
            "1\n"
          ],
          "name": "stdout"
        }
      ]
    }
  ]
}