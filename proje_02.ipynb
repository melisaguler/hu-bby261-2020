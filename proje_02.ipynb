{
  "nbformat": 4,
  "nbformat_minor": 0,
  "metadata": {
    "colab": {
      "name": "proje_02.ipynb",
      "provenance": [],
      "authorship_tag": "ABX9TyMuvSco+zDC2wMgXnP3qYXJ",
      "include_colab_link": true
    },
    "kernelspec": {
      "name": "python3",
      "display_name": "Python 3"
    }
  },
  "cells": [
    {
      "cell_type": "markdown",
      "metadata": {
        "id": "view-in-github",
        "colab_type": "text"
      },
      "source": [
        "<a href=\"https://colab.research.google.com/github/melisaguler/hu-bby261-2020/blob/main/proje_02.ipynb\" target=\"_parent\"><img src=\"https://colab.research.google.com/assets/colab-badge.svg\" alt=\"Open In Colab\"/></a>"
      ]
    },
    {
      "cell_type": "code",
      "metadata": {
        "id": "TKg-tPUIQ8cV",
        "outputId": "1e599826-9109-4988-b600-750988de2183",
        "colab": {
          "base_uri": "https://localhost:8080/",
          "height": 568
        }
      },
      "source": [
        "import logging\n",
        "import numpy\n",
        "import tensorflow as tf\n",
        "import matplotlib.pyplot as plot\n",
        "\n",
        "\n",
        "\n",
        "logger = tf.get_logger()\n",
        "logger.setLevel(logging.ERROR)\n",
        "\n",
        "KM = numpy.array([0.01, 0.1,  1,  3, 5, 7, 11,20, 40,70,100,150 ],  dtype=float)\n",
        "\n",
        "MIL = numpy.array([0.0062, 0.062,0.62, 1.8641, 3.1069, 4.3496, 6.83508,12.4274,24.8548,43.496,62.1371,93.2057],  dtype=float)\n",
        "for index,value in enumerate(KM):\n",
        "  print(\"{} KM = {} MIL\".format(value, MIL[index]))\n",
        "l1 = tf.keras.layers.Dense(units=1, input_shape=[1])\n",
        "model = tf.keras.Sequential([l1])\n",
        "model.compile(loss='mean_squared_error', optimizer=tf.keras.optimizers.Adam(0.1))\n",
        "\n",
        "kmToCalculate = float(input(\"Km cinsini çevirin: \"))\n",
        "realExactAnswer = kmToCalculate * 0.621371\n",
        "print(\"Mil Cinsinden Değeri: {} mile\".format(realExactAnswer))\n",
        "\n",
        "trainingTimes = 80\n",
        "\n",
        "print(format(trainingTimes))  \n",
        "history= model.fit(KM, MIL, epochs=trainingTimes, verbose=False)\n",
        "predictedValue = model.predict([kmToCalculate])\n",
        "print(format(predictedValue))\n",
        "plot.xlabel('epoch number')\n",
        "plot.ylabel('loss magnitude')\n",
        "\n",
        "plot.plot(history.history['loss'])\n",
        "print(format(l1.get_weights()))"
      ],
      "execution_count": null,
      "outputs": [
        {
          "output_type": "stream",
          "text": [
            "0.01 KM = 0.0062 MIL\n",
            "0.1 KM = 0.062 MIL\n",
            "1.0 KM = 0.62 MIL\n",
            "3.0 KM = 1.8641 MIL\n",
            "5.0 KM = 3.1069 MIL\n",
            "7.0 KM = 4.3496 MIL\n",
            "11.0 KM = 6.83508 MIL\n",
            "20.0 KM = 12.4274 MIL\n",
            "40.0 KM = 24.8548 MIL\n",
            "70.0 KM = 43.496 MIL\n",
            "100.0 KM = 62.1371 MIL\n",
            "150.0 KM = 93.2057 MIL\n",
            "Km cinsini çevirin: 15\n",
            "Mil Cinsinden Değeri: 9.320565 mile\n",
            "80\n",
            "[[9.339106]]\n",
            "[array([[0.6177925]], dtype=float32), array([0.07221783], dtype=float32)]\n"
          ],
          "name": "stdout"
        },
        {
          "output_type": "display_data",
          "data": {
            "image/png": "[encoded data removed]",
            "text/plain": [
              "<Figure size 432x288 with 1 Axes>"
            ]
          },
          "metadata": {
            "tags": [],
            "needs_background": "light"
          }
        }
      ]
    }
  ]
}